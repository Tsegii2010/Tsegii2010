{
  "nbformat": 4,
  "nbformat_minor": 0,
  "metadata": {
    "colab": {
      "provenance": [],
      "authorship_tag": "ABX9TyPVFMyYiU1bvG12NAi/YuLK",
      "include_colab_link": true
    },
    "kernelspec": {
      "name": "python3",
      "display_name": "Python 3"
    },
    "language_info": {
      "name": "python"
    }
  },
  "cells": [
    {
      "cell_type": "markdown",
      "metadata": {
        "id": "view-in-github",
        "colab_type": "text"
      },
      "source": [
        "<a href=\"https://colab.research.google.com/github/Tsegii2010/Tsegii2010/blob/main/Code_magnet.ipynb\" target=\"_parent\"><img src=\"https://colab.research.google.com/assets/colab-badge.svg\" alt=\"Open In Colab\"/></a>"
      ]
    },
    {
      "cell_type": "code",
      "execution_count": null,
      "metadata": {
        "id": "WWxsYvhjkWOz"
      },
      "outputs": [],
      "source": []
    },
    {
      "cell_type": "markdown",
      "source": [
        "Heat a pen\n",
        "Crack three eggs\n",
        "Transfer eggs to the pen\n",
        "While eggs aren't fully cooked:\n",
        "Stir\n",
        "Transfer some of them to plate\n",
        "Add cheese while eggs cooked fully\n",
        "Transfer eggs to a plate\n",
        "are cooked fully\n",
        "Transfer eggs to a plate\n",
        "Remove pan\n",
        "Serve\n"
      ],
      "metadata": {
        "id": "IPcy4ABDlcmR"
      }
    }
  ]
}